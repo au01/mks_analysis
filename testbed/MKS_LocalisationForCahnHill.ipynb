{
 "cells": [
  {
   "cell_type": "markdown",
   "metadata": {},
   "source": [
    "[PyMKS Blog link](http://materialsinnovation.github.io/pymks/rst/localization_cahn_hilliard_Legendre_2D.html)"
   ]
  },
  {
   "cell_type": "code",
   "execution_count": 1,
   "metadata": {
    "collapsed": true
   },
   "outputs": [],
   "source": [
    "%matplotlib inline\n",
    "%load_ext autoreload\n",
    "%autoreload 2"
   ]
  },
  {
   "cell_type": "code",
   "execution_count": 84,
   "metadata": {},
   "outputs": [],
   "source": [
    "import numpy as np\n",
    "import math\n",
    "import matplotlib.pyplot as plt\n",
    "import pymks\n",
    "from pymks.datasets.cahn_hilliard_simulation import CahnHilliardSimulation\n",
    "from pymks.tools import draw_concentrations\n",
    "from pymks.tools import draw_coeff\n",
    "from pymks.bases import LegendreBasis\n",
    "from pymks import MKSLocalizationModel"
   ]
  },
  {
   "cell_type": "code",
   "execution_count": 4,
   "metadata": {
    "collapsed": true
   },
   "outputs": [],
   "source": [
    "import time"
   ]
  },
  {
   "cell_type": "code",
   "execution_count": 5,
   "metadata": {
    "collapsed": true,
    "scrolled": true
   },
   "outputs": [],
   "source": [
    "def ch_test(length=51, time_steps = 10, seed = 99, dt =1e-1, gamma = 1., n_samples=1):\n",
    "    np.random.seed(seed)\n",
    "    size=(length, length)\n",
    "    phi0 = np.random.normal(0, 1e-1, ((n_samples,) + size))\n",
    "    phi_sim = phi0.copy()\n",
    "    ch_sim = CahnHilliardSimulation(dt=dt)\n",
    "    for steps in range(time_steps):\n",
    "        ch_sim.run(phi_sim)\n",
    "        phi_sim = ch_sim.response\n",
    "    return phi0, phi_sim"
   ]
  },
  {
   "cell_type": "code",
   "execution_count": 6,
   "metadata": {
    "collapsed": true
   },
   "outputs": [],
   "source": [
    "def error(X, Y):\n",
    "    n = X.shape[0]*X.shape[1]\n",
    "    return (np.sum((X-Y)**2))"
   ]
  },
  {
   "cell_type": "markdown",
   "metadata": {},
   "source": [
    "## Training the model\n",
    "\n",
    "First Generate data for training the model."
   ]
  },
  {
   "cell_type": "markdown",
   "metadata": {},
   "source": [
    "First we need to generate the training data by executing cahn-hilliard simulation using spectral solver.\n",
    "Below, we specify the model parameters for the Cahn-Hilliar Simulation of spinodal decomposition."
   ]
  },
  {
   "cell_type": "code",
   "execution_count": 108,
   "metadata": {
    "collapsed": true
   },
   "outputs": [],
   "source": [
    "length     = 101 # size of domain\n",
    "time_steps = 1 # Simulation time\n",
    "seed       = 101 # seed for random no, generator for geenrating the initial microstructure\n",
    "dt         = 1e-2 #simulation timestep\n",
    "gamma      = 1. #gamma parameter value\n",
    "training_samples = 200 # no. of training samples to be generated"
   ]
  },
  {
   "cell_type": "markdown",
   "metadata": {},
   "source": [
    "Generating the training data using the simulation"
   ]
  },
  {
   "cell_type": "code",
   "execution_count": 109,
   "metadata": {},
   "outputs": [
    {
     "name": "stdout",
     "output_type": "stream",
     "text": [
      "1 loop, best of 3: 23.3 s per loop\n"
     ]
    }
   ],
   "source": [
    "%timeit X, y = ch_test(length, time_steps, seed, dt, gamma, training_samples)\n",
    "# X, y = ch_test(length, time_steps, seed, dt, gamma, training_samples)"
   ]
  },
  {
   "cell_type": "code",
   "execution_count": 48,
   "metadata": {},
   "outputs": [
    {
     "name": "stdout",
     "output_type": "stream",
     "text": [
      "(200, 101, 101)\n"
     ]
    }
   ],
   "source": [
    "filename1 = \"training_data_input_tstep_1_%d\" % training_samples\n",
    "np.save(filename1, X)\n",
    "filename2 = \"training_data_output_tstep_1_%d\" % training_samples\n",
    "np.save(filename2, y)\n",
    "print(y.shape)"
   ]
  },
  {
   "cell_type": "code",
   "execution_count": 50,
   "metadata": {},
   "outputs": [],
   "source": [
    "leg_basis = LegendreBasis(6, [-1, 1])\n",
    "leg_model = MKSLocalizationModel(basis=leg_basis)"
   ]
  },
  {
   "cell_type": "code",
   "execution_count": 51,
   "metadata": {
    "scrolled": true
   },
   "outputs": [
    {
     "name": "stdout",
     "output_type": "stream",
     "text": [
      "1 loop, best of 3: 5.38 s per loop\n"
     ]
    }
   ],
   "source": [
    "%timeit leg_model.fit(X, y)\n",
    "leg_model.fit(X, y)"
   ]
  },
  {
   "cell_type": "markdown",
   "metadata": {},
   "source": [
    "## Generating the test data"
   ]
  },
  {
   "cell_type": "code",
   "execution_count": 77,
   "metadata": {},
   "outputs": [],
   "source": [
    "length     = 101 # size of domain\n",
    "time_steps = 1 # Simulation time\n",
    "seed       = 101 # seed for random no, generator for geenrating the initial microstructure\n",
    "dt         = 1e-2 #simulation timestep\n",
    "gamma      = 1. #gamma parameter value\n",
    "test_samples = 50 # no. of training samples to be generated"
   ]
  },
  {
   "cell_type": "code",
   "execution_count": 78,
   "metadata": {},
   "outputs": [
    {
     "name": "stdout",
     "output_type": "stream",
     "text": [
      "1 loop, best of 3: 686 ms per loop\n"
     ]
    }
   ],
   "source": [
    "%timeit X_test, y_test=ch_test(length, time_steps, seed, dt, gamma, test_samples)\n",
    "X_test, y_test=ch_test(length, time_steps, seed, dt, gamma, test_samples)"
   ]
  },
  {
   "cell_type": "code",
   "execution_count": 79,
   "metadata": {},
   "outputs": [
    {
     "name": "stdout",
     "output_type": "stream",
     "text": [
      "1 loop, best of 3: 978 ms per loop\n"
     ]
    }
   ],
   "source": [
    "%timeit y_predict = leg_model.predict(X_test)\n",
    "y_predict = leg_model.predict(X_test)"
   ]
  },
  {
   "cell_type": "code",
   "execution_count": 104,
   "metadata": {},
   "outputs": [
    {
     "data": {
      "text/plain": [
       "(50, 101, 101)"
      ]
     },
     "execution_count": 104,
     "metadata": {},
     "output_type": "execute_result"
    }
   ],
   "source": [
    "phi_sim = y_predict.copy()\n",
    "phi_predict = y_predict.copy()\n",
    "y_predict.shape"
   ]
  },
  {
   "cell_type": "markdown",
   "metadata": {},
   "source": [
    "# Comparing timestepping using predict to timestepping using spectral solver\n"
   ]
  },
  {
   "cell_type": "code",
   "execution_count": 88,
   "metadata": {
    "collapsed": true
   },
   "outputs": [
    {
     "name": "stdout",
     "output_type": "stream",
     "text": [
      "0\n",
      "1\n",
      "2\n",
      "3\n",
      "4\n",
      "5\n",
      "6\n",
      "7\n",
      "8\n",
      "9\n",
      "10\n",
      "11\n",
      "12\n",
      "13\n",
      "14\n",
      "15\n",
      "16\n",
      "17\n",
      "18\n",
      "19\n",
      "20\n",
      "21\n",
      "22\n",
      "23\n",
      "24\n",
      "25\n",
      "26\n",
      "27\n",
      "28\n",
      "29\n",
      "30\n",
      "31\n",
      "32\n",
      "33\n",
      "34\n",
      "35\n",
      "36\n",
      "37\n",
      "38\n",
      "39\n",
      "40\n",
      "41\n",
      "42\n",
      "43\n",
      "44\n",
      "45\n",
      "46\n",
      "47\n",
      "48\n",
      "49\n",
      "50\n",
      "51\n",
      "52\n",
      "53\n",
      "54\n",
      "55\n",
      "56\n",
      "57\n",
      "58\n",
      "59\n",
      "60\n",
      "61\n",
      "62\n",
      "63\n",
      "64\n",
      "65\n",
      "66\n",
      "67\n",
      "68\n",
      "69\n",
      "70\n",
      "71\n",
      "72\n",
      "73\n",
      "74\n",
      "75\n",
      "76\n",
      "77\n",
      "78\n",
      "79\n",
      "80\n",
      "81\n",
      "82\n",
      "83\n",
      "84\n",
      "85\n",
      "86\n",
      "87\n",
      "88\n",
      "89\n",
      "90\n",
      "91\n",
      "92\n",
      "93\n",
      "94\n",
      "95\n",
      "96\n",
      "97\n",
      "98\n",
      "99\n",
      "CPU times: user 1min 39s, sys: 20 ms, total: 1min 39s\n",
      "Wall time: 1min 39s\n"
     ]
    }
   ],
   "source": [
    "%%time\n",
    "for i in range(100):\n",
    "    print(i)\n",
    "    phi_predict = leg_model.predict(phi_predict)"
   ]
  },
  {
   "cell_type": "markdown",
   "metadata": {},
   "source": [
    "On carrying out forward stepping using MKS_predict scheme, system takes 98 seconds to carry out 100 timsteps\n",
    "\n",
    "    CPU times: user 1min 39s, sys: 20 ms, total: 1min 39s\n",
    "    Wall time: 1min 39s\n",
    "\n",
    "However, as can be seen below , on using Spectral_Solver scheme, system takes 67 seconds to carry out 100 timesteps"
   ]
  },
  {
   "cell_type": "code",
   "execution_count": 90,
   "metadata": {},
   "outputs": [
    {
     "name": "stdout",
     "output_type": "stream",
     "text": [
      "CPU times: user 1min 7s, sys: 136 ms, total: 1min 7s\n",
      "Wall time: 1min 7s\n"
     ]
    }
   ],
   "source": [
    "%%time\n",
    "ch_sim = CahnHilliardSimulation(dt=dt)\n",
    "for i in range(100):\n",
    "    ch_sim.run(phi_sim)\n",
    "    phi_sim = ch_sim.response"
   ]
  },
  {
   "cell_type": "code",
   "execution_count": 91,
   "metadata": {
    "scrolled": true
   },
   "outputs": [
    {
     "data": {
      "image/png": "[encoded data removed]",
      "text/plain": [
       "<matplotlib.figure.Figure at 0x7feee7112c88>"
      ]
     },
     "metadata": {},
     "output_type": "display_data"
    }
   ],
   "source": [
    "draw_concentrations([phi_sim[0], phi_predict[0]], ['Simulated Field', 'Predicted Field'])"
   ]
  },
  {
   "cell_type": "markdown",
   "metadata": {},
   "source": [
    "## Training and testing the model"
   ]
  },
  {
   "cell_type": "code",
   "execution_count": 70,
   "metadata": {},
   "outputs": [
    {
     "name": "stdout",
     "output_type": "stream",
     "text": [
      "CPU times: user 0 ns, sys: 0 ns, total: 0 ns\n",
      "Wall time: 23.8 µs\n"
     ]
    }
   ],
   "source": [
    "%%time\n",
    "training_samples = 200\n",
    "test_samples     = 10\n",
    "errors           = np.zeros((training_samples-1,1))\n",
    "training_times   = np.zeros((training_samples-1,1))"
   ]
  },
  {
   "cell_type": "markdown",
   "metadata": {},
   "source": [
    "Choosing the model"
   ]
  },
  {
   "cell_type": "code",
   "execution_count": 13,
   "metadata": {},
   "outputs": [
    {
     "name": "stdout",
     "output_type": "stream",
     "text": [
      "CPU times: user 0 ns, sys: 0 ns, total: 0 ns\n",
      "Wall time: 733 µs\n"
     ]
    }
   ],
   "source": [
    "%%time\n",
    "leg_basis = LegendreBasis(10, [-1, 1])\n",
    "leg_model = MKSLocalizationModel(basis=leg_basis)"
   ]
  },
  {
   "cell_type": "code",
   "execution_count": 76,
   "metadata": {
    "collapsed": true
   },
   "outputs": [
    {
     "name": "stdout",
     "output_type": "stream",
     "text": [
      "1 0.692219 1.02255343076\n",
      "2 0.76051 0.156969216228\n",
      "3 0.797564 0.00504795720471\n",
      "4 0.786315 0.000414219009985\n",
      "5 0.806719 0.00031460968092\n",
      "6 0.834502 0.000266984891422\n",
      "7 0.859158 0.000281035459276\n",
      "8 0.873111 0.000266033719732\n",
      "9 0.882527 0.000265926397261\n",
      "10 0.895226 0.000255304248584\n",
      "11 0.907762 0.000247308066246\n",
      "12 0.918032 0.000262548014869\n",
      "13 0.931826 0.000252625276238\n",
      "14 0.949302 0.000252324202479\n",
      "15 0.983534 0.00024292357053\n",
      "16 0.985662 0.000249969949691\n",
      "17 0.993931 0.000241400713058\n",
      "18 1.00591 0.000237238824928\n",
      "19 1.016035 0.000234679022731\n",
      "20 1.028856 0.00023243123951\n",
      "21 1.04343 0.000229890505822\n",
      "22 1.059899 0.000224431496449\n",
      "23 1.068698 0.000221704151779\n",
      "24 1.088731 0.000220735331902\n",
      "25 1.102911 0.000219505723406\n",
      "26 1.1175 0.00022919732595\n",
      "27 1.130406 0.000232923258542\n",
      "28 1.16984 0.000230723804059\n",
      "29 1.199309 0.000227088316764\n",
      "30 1.189425 0.000223813927914\n",
      "31 1.194681 0.000222042036884\n",
      "32 1.202826 0.000220377767036\n",
      "33 1.215596 0.000216639349245\n",
      "34 1.228511 0.000216900021118\n",
      "35 1.266643 0.000218075858394\n",
      "36 1.261075 0.000216118112205\n",
      "37 1.275752 0.000214586093288\n",
      "38 1.287572 0.000213042537976\n",
      "39 1.30191 0.000212222882469\n",
      "40 1.320268 0.000208755053587\n",
      "41 1.334781 0.000207664196144\n",
      "42 1.341937 0.000206951517651\n",
      "43 1.356534 0.000206614588097\n",
      "44 1.374173 0.000206919058244\n",
      "45 1.38758 0.000207990711384\n",
      "46 1.400689 0.000211457508076\n",
      "47 1.413263 0.000208697396927\n",
      "48 1.428634 0.000207784526614\n",
      "49 1.440446 0.000207547994158\n",
      "50 1.455569 0.000207377309937\n",
      "51 1.465059 0.000206998540066\n",
      "52 1.483336 0.000207023554088\n",
      "53 1.487952 0.000205938229862\n",
      "54 1.499001 0.000205592582045\n",
      "55 1.516406 0.000204911240264\n",
      "56 1.536133 0.000203627866122\n",
      "57 1.544626 0.000203133916728\n",
      "58 1.56232 0.00020323860344\n",
      "59 1.578787 0.000202223738709\n",
      "60 1.594933 0.000201589512058\n",
      "61 1.612129 0.000201672820948\n",
      "62 1.625329 0.00020151832774\n",
      "63 1.64002 0.000201158935719\n",
      "64 1.662631 0.000200155505575\n",
      "65 1.67101 0.000198755112755\n",
      "66 1.721389 0.000197903698075\n",
      "67 1.712131 0.000198030770455\n",
      "68 1.714743 0.000197717459807\n",
      "69 1.720854 0.000196783782073\n",
      "70 1.735047 0.000196496676418\n",
      "71 1.752218 0.000196249096441\n",
      "72 1.764701 0.000195916621945\n",
      "73 1.777962 0.000195544402018\n",
      "74 1.79403 0.000195264451205\n",
      "75 1.812149 0.00019499716734\n",
      "76 1.828479 0.000194820124387\n",
      "77 1.844481 0.000194836464393\n",
      "78 1.855156 0.000195099539039\n",
      "79 1.875392 0.000195674134552\n",
      "80 1.894847 0.000196319431303\n",
      "81 1.918023 0.000195739086578\n",
      "82 1.910248 0.000196093763761\n",
      "83 1.933455 0.000195924397279\n",
      "84 1.94699 0.000195715104174\n",
      "85 1.961716 0.000195548879874\n",
      "86 1.974886 0.000195796442762\n",
      "87 1.987985 0.000196478650325\n",
      "88 2.001166 0.000196072792251\n",
      "89 2.020707 0.000195968636325\n",
      "90 2.031612 0.000195945541364\n",
      "91 2.040036 0.000195987341826\n",
      "92 2.050679 0.000196300344112\n",
      "93 2.065159 0.000195446831041\n",
      "94 2.065798 0.000195071371981\n",
      "95 2.079464 0.000194883633596\n",
      "96 2.101693 0.00019520830784\n",
      "97 2.113049 0.000195692572048\n",
      "98 2.482434 0.000195898800839\n",
      "99 2.554489 0.000195850827301\n",
      "100 2.152924 0.000195768808847\n",
      "101 2.159249 0.000195864562854\n",
      "102 2.17967 0.000195484522087\n",
      "103 2.196347 0.000195459131314\n",
      "104 2.213169 0.000195266345585\n",
      "105 2.234363 0.000194973583711\n",
      "106 2.239854 0.000194756414784\n",
      "107 2.254508 0.000194734403762\n",
      "108 2.262444 0.000194645198811\n",
      "109 2.273588 0.000194568659027\n",
      "110 2.289018 0.000194457887826\n",
      "111 2.301201 0.00019426544708\n",
      "112 2.317317 0.000194022170557\n",
      "113 2.332016 0.000193573992556\n",
      "114 2.347104 0.000193218417489\n",
      "115 2.362724 0.000193188287044\n",
      "116 2.380156 0.000193261749308\n",
      "117 2.390737 0.000193237137284\n",
      "118 2.404202 0.000193055759013\n",
      "119 2.422975 0.00019291038528\n",
      "120 2.49979 0.000192964587\n",
      "121 2.462112 0.000192869483921\n",
      "122 2.473722 0.000192830201758\n",
      "123 2.492758 0.00019263188259\n",
      "124 2.516905 0.00019243281299\n",
      "125 2.50283 0.0001923319533\n",
      "126 2.530703 0.000192278156947\n",
      "127 2.541305 0.000192149366147\n",
      "128 2.543652 0.000192161531383\n",
      "129 2.56316 0.000191817630942\n",
      "130 2.577377 0.000191481641743\n",
      "131 2.596719 0.000191829591919\n",
      "132 2.609615 0.000191657822378\n",
      "133 2.618976 0.000191553973608\n",
      "134 2.639765 0.000191210054409\n",
      "135 2.661667 0.000191048711811\n",
      "136 2.673399 0.000190795009355\n",
      "137 2.696437 0.000190292178773\n",
      "138 2.759682 0.000190576800129\n",
      "139 3.305895 0.000190599539508\n",
      "140 3.092409 0.000190490818454\n",
      "141 3.222237 0.000190364515254\n",
      "142 2.826929 0.000190229989096\n",
      "143 2.788532 0.000189994561232\n",
      "144 2.778625 0.0001900334298\n",
      "145 2.794864 0.000190348593746\n",
      "146 2.802771 0.00019150338131\n",
      "147 2.824149 0.000191634494776\n",
      "148 2.834149 0.000191610613967\n",
      "149 2.845943 0.00019158566343\n",
      "150 2.861503 0.000191479966851\n",
      "151 2.880153 0.00019155008229\n",
      "152 2.89216 0.000192354922616\n",
      "153 2.905516 0.000192452022374\n",
      "154 2.915315 0.000192465070114\n",
      "155 2.930792 0.000192201485337\n",
      "156 2.944261 0.000192183648599\n",
      "157 2.956428 0.000192364988979\n",
      "158 2.971378 0.000192098641267\n",
      "159 2.985465 0.00019213001819\n",
      "160 2.995524 0.000191872590622\n",
      "161 3.032855 0.000191639439585\n",
      "162 3.042696 0.000191815246869\n",
      "163 3.031177 0.000192108285656\n",
      "164 3.049454 0.000192114046867\n",
      "165 3.059576 0.000191961180572\n",
      "166 3.080593 0.000192118407837\n",
      "167 3.097506 0.000191911960485\n",
      "168 3.108817 0.000191942072815\n",
      "169 3.121557 0.000191878415371\n",
      "170 3.14469 0.000192062003614\n",
      "171 3.151807 0.000191926151267\n",
      "172 3.173535 0.000191862583393\n",
      "173 3.19358 0.000191555311554\n",
      "174 3.206321 0.000191486496758\n",
      "175 3.21758 0.000191221449784\n",
      "176 3.244335 0.000191013379138\n",
      "177 3.246052 0.00019087669912\n",
      "178 3.261376 0.000190613433517\n",
      "179 3.281227 0.000190491604331\n",
      "180 3.291892 0.000190552500871\n",
      "181 3.305048 0.000190462283608\n",
      "182 3.314402 0.000190265190293\n",
      "183 3.331504 0.000190082415198\n",
      "184 3.356041 0.000190072756928\n",
      "185 3.360329 0.000190161754857\n",
      "186 3.374998 0.000190119961409\n",
      "187 3.396228 0.00019019553601\n",
      "188 3.403114 0.000190188710666\n",
      "189 3.413494 0.000190229782034\n",
      "190 3.436173 0.000190554681787\n",
      "191 3.449821 0.000190674725458\n",
      "192 3.468776 0.000190762741489\n",
      "193 4.362919 0.000190763663527\n",
      "194 3.847108 0.000190759794808\n",
      "195 3.801723 0.00019062396594\n",
      "196 3.611157 0.000190679921123\n",
      "197 3.613746 0.000190525622645\n",
      "198 3.822163 0.000190521470834\n",
      "199 3.56265 0.000190611297886\n",
      "200 3.577949 0.000190581218645\n",
      "201 3.599143 0.000190469441314\n",
      "202 3.609382 0.000190384146034\n",
      "203 3.617698 0.000190315428268\n",
      "204 3.638483 0.000190458031388\n",
      "205 3.649046 0.000190380872001\n",
      "206 3.672139 0.000190481666333\n",
      "207 3.68514 0.000190714931262\n",
      "208 3.706921 0.000190743616499\n",
      "209 3.728684 0.000190747549101\n",
      "210 3.74675 0.000191996429312\n",
      "211 3.7598 0.000192022425415\n",
      "212 3.79202 0.000191843762875\n",
      "213 3.814023 0.000191895993191\n",
      "214 3.807332 0.000191933204863\n",
      "215 3.824429 0.000191866030817\n",
      "216 3.841439 0.00019206065387\n",
      "217 3.862681 0.000191922554374\n",
      "218 3.864805 0.000192036548555\n",
      "219 3.878514 0.000191948874361\n",
      "220 3.890739 0.000191979826242\n",
      "221 3.911355 0.000191766363694\n",
      "222 3.931841 0.000191603877666\n",
      "223 3.943265 0.000191489265343\n",
      "224 5.081782 0.000191354228634\n",
      "225 4.463208 0.000191262722556\n",
      "226 4.023521 0.000191071907746\n",
      "227 4.357 0.000190973941575\n",
      "228 4.011088 0.000190904423775\n",
      "229 4.020382 0.000190826436768\n",
      "230 4.034445 0.000190861923526\n",
      "231 4.048544 0.000190962457956\n",
      "232 4.065148 0.000190942607188\n",
      "233 4.078008 0.000190912742318\n",
      "234 4.092602 0.00019076980664\n",
      "235 4.108211 0.000190714582817\n",
      "236 4.120002 0.000190577421121\n",
      "237 4.135813 0.000190770286612\n",
      "238 4.146491 0.000190849564685\n",
      "239 4.15745 0.000190675235022\n",
      "240 4.179499 0.000190575060326\n",
      "241 4.195079 0.000190517997801\n",
      "242 4.229125 0.000190463781933\n",
      "243 4.214539 0.000190432430988\n",
      "244 4.229534 0.000190849697586\n",
      "245 4.244224 0.000190949565971\n",
      "246 4.262444 0.000190795838722\n",
      "247 4.275353 0.000190913823744\n",
      "248 4.287099 0.000190776074868\n",
      "249 4.304427 0.000190715714504\n",
      "250 4.322719 0.000190667375851\n",
      "251 4.352077 0.000190526116343\n",
      "252 4.350993 0.000190410283549\n",
      "253 4.376742 0.000190392311378\n",
      "254 4.476047 0.000190379103185\n",
      "255 4.41928 0.000190262332348\n",
      "256 4.425086 0.000190248804815\n",
      "257 4.435209 0.000190181957258\n",
      "258 4.448825 0.000190174971804\n",
      "259 4.45827 0.000190676019556\n",
      "260 4.478081 0.000190642621944\n",
      "261 4.490805 0.000190700935899\n",
      "262 4.511114 0.000190723386923\n",
      "263 4.685963 0.000190570351982\n",
      "264 5.635937 0.000190602514977\n",
      "265 4.848093 0.000190649578748\n",
      "266 4.583435 0.000190504695516\n",
      "267 4.606708 0.000190451262384\n",
      "268 4.605223 0.000190380333798\n",
      "269 4.615034 0.000190257645346\n",
      "270 4.638878 0.000190339323493\n",
      "271 4.669434 0.000190355163401\n",
      "272 4.665614 0.000190280677487\n",
      "273 4.680009 0.000190560438669\n",
      "274 4.687811 0.000190617553015\n",
      "275 4.703766 0.000190632379645\n",
      "276 4.722643 0.00019088499024\n",
      "277 4.736697 0.000190904930263\n",
      "278 4.749818 0.000190889008834\n",
      "279 4.818984 0.000190713932207\n",
      "280 4.801707 0.000190836937602\n",
      "281 4.798036 0.000190932173885\n",
      "282 4.813352 0.000190847682021\n",
      "283 4.832745 0.000190891583388\n",
      "284 4.845179 0.000190934885542\n",
      "285 4.85931 0.000190937085583\n",
      "286 4.878929 0.000191012892623\n",
      "287 4.896473 0.000191110835332\n",
      "288 4.913005 0.000191139718462\n",
      "289 4.957657 0.000191494278405\n",
      "290 4.949192 0.000191783171287\n",
      "291 4.956616 0.000191833013868\n",
      "292 4.97968 0.000191755753989\n",
      "293 4.994099 0.000191682567504\n",
      "294 5.007502 0.000191674508319\n",
      "295 5.024819 0.000191668839413\n",
      "296 5.041365 0.000191648933554\n",
      "297 5.043008 0.000191611663175\n",
      "298 5.074637 0.000191714464622\n",
      "299 5.095281 0.000191623394643\n",
      "300 5.103503 0.000191623636662\n",
      "301 5.126575 0.000191535679388\n",
      "302 5.138019 0.000191484961436\n",
      "303 5.2266 0.000191594348359\n",
      "304 5.169602 0.000192037039762\n",
      "305 5.177377 0.000192207058546\n",
      "306 5.189482 0.000192115005932\n",
      "307 5.209881 0.000192063207042\n",
      "308 5.232359 0.000191962167957\n",
      "309 5.235357 0.00019201931925\n",
      "310 5.2371 0.000192051377506\n",
      "311 5.260588 0.000191997257599\n",
      "312 5.27505 0.00019187944923\n",
      "313 5.318 0.000191905320362\n",
      "314 5.303834 0.000191893410595\n",
      "315 5.348056 0.000191828298799\n",
      "316 5.347349 0.000191757547501\n",
      "317 5.372913 0.000191784024017\n",
      "318 5.406617 0.000191711238847\n",
      "319 5.41865 0.000191668170893\n",
      "320 5.430142 0.000191744650394\n",
      "321 5.465123 0.000191990475078\n",
      "322 5.479691 0.000191903051758\n",
      "323 5.496484 0.000191883651916\n",
      "324 5.800008 0.000191927330311\n",
      "325 6.106126 0.000191970217393\n",
      "326 5.581243 0.000191903825654\n",
      "327 5.538701 0.00019186903412\n",
      "328 5.500424 0.000191952950462\n",
      "329 5.506046 0.000191959096873\n",
      "330 5.515581 0.000191918332048\n",
      "331 5.530608 0.000192147971152\n",
      "332 5.539804 0.000192585860407\n",
      "333 5.547184 0.000192585131617\n",
      "334 5.564771 0.000192545842344\n",
      "335 5.592064 0.000192539837757\n",
      "336 5.616845 0.000192506659536\n",
      "337 5.613526 0.000192468675965\n",
      "338 5.640758 0.00019235299401\n",
      "339 5.69975 0.00019240317222\n",
      "340 5.672545 0.000192254850595\n",
      "341 5.674063 0.000192376184491\n",
      "342 5.68372 0.000192377623988\n",
      "343 5.709133 0.000192362888306\n",
      "344 5.838095 0.000192449777573\n",
      "345 5.74105 0.000192444749727\n",
      "346 5.806763 0.000192479012629\n",
      "347 5.780019 0.000192356426739\n",
      "348 5.821121 0.000192328883578\n",
      "349 6.761802 0.000192349965489\n",
      "350 7.067652 0.000192264168668\n",
      "351 6.177795 0.000192253415989\n",
      "352 6.114624 0.000192325567086\n",
      "353 6.134204 0.000192428661501\n",
      "354 5.949881 0.000192435812195\n",
      "355 5.96282 0.000192377697363\n",
      "356 6.010359 0.000192339474861\n",
      "357 6.675337 0.00019235792671\n",
      "358 6.600957 0.0001922962399\n",
      "359 6.041146 0.000192369916257\n",
      "360 6.051287 0.000192306274299\n",
      "361 6.063179 0.000192348741342\n",
      "362 6.080782 0.000192655919799\n",
      "363 6.100078 0.000192748049086\n",
      "364 6.10985 0.000192786719976\n",
      "365 6.14559 0.000192705146632\n",
      "366 6.142569 0.000192737775523\n",
      "367 6.155947 0.000192678884756\n",
      "368 6.172076 0.000192590703664\n",
      "369 6.185878 0.00019252483158\n",
      "370 6.212412 0.00019249739737\n",
      "371 6.231964 0.000192454122783\n",
      "372 6.245164 0.000192409797243\n",
      "373 6.243827 0.000192286311513\n",
      "374 6.251319 0.000192256941912\n",
      "375 6.440805 0.000192172517053\n",
      "376 6.884219 0.000192079810386\n",
      "377 6.857472 0.000192000176503\n",
      "378 6.261641 0.000192010891888\n",
      "379 6.276281 0.000191961877406\n",
      "380 6.316723 0.000191991958898\n",
      "381 6.312745 0.000192071904223\n",
      "382 6.351591 0.000192087042997\n",
      "383 6.382948 0.00019204983141\n",
      "384 6.381472 0.000192082314119\n",
      "385 6.380565 0.000192174023802\n",
      "386 6.384106 0.000192083669229\n",
      "387 6.392178 0.000192025891246\n",
      "388 6.426381 0.00019209902844\n",
      "389 6.430112 0.000192005221807\n",
      "390 6.462104 0.000191884647334\n",
      "391 6.50724 0.000191817737095\n",
      "392 6.476558 0.000191790348638\n",
      "393 6.530877 0.000191726672725\n",
      "394 6.522585 0.0001917185068\n",
      "395 6.523205 0.000191715274288\n",
      "396 6.54232 0.00019166636302\n",
      "397 6.566226 0.000191710359799\n",
      "398 6.551227 0.000191755436153\n",
      "399 6.572415 0.00019177611703\n",
      "400 6.593796 0.000191699190891\n",
      "401 6.622235 0.0001916161646\n",
      "402 6.66547 0.000191704759697\n",
      "403 6.675754 0.000191818423415\n",
      "404 6.688234 0.0001918129922\n",
      "405 6.669643 0.000191759999708\n",
      "406 6.67605 0.000191809667394\n",
      "407 6.677436 0.000191748504945\n",
      "408 6.710909 0.000191695029138\n",
      "409 6.721866 0.000191562975345\n",
      "410 6.736667 0.000191493463604\n",
      "411 6.758594 0.000191609468175\n",
      "412 6.769102 0.00019181577107\n",
      "413 6.795257 0.000191784953619\n",
      "414 6.829775 0.000191772273832\n",
      "415 6.843649 0.000191932753856\n",
      "416 6.845531 0.000191835696345\n",
      "417 6.855229 0.000191836304904\n",
      "418 6.867765 0.000191872841057\n",
      "419 6.955423 0.000191911253273\n",
      "420 6.920782 0.000191949827866\n",
      "421 6.905257 0.000191955463489\n",
      "422 6.948107 0.000191900327258\n",
      "423 6.93866 0.000191890762865\n",
      "424 6.966967 0.000191819498913\n",
      "425 7.00047 0.000191749931427\n",
      "426 7.011136 0.000191784776869\n",
      "427 7.028296 0.000191721126295\n",
      "428 7.027901 0.000191779110206\n",
      "429 7.027428 0.00019171550406\n",
      "430 7.053686 0.000191688494715\n",
      "431 7.090187 0.000191679453239\n",
      "432 7.073386 0.000191693976366\n",
      "433 7.091972 0.000191684845799\n",
      "434 7.168223 0.000191689782622\n",
      "435 7.112537 0.000191726638741\n",
      "436 7.181217 0.000191754045132\n",
      "437 7.141991 0.000191755952253\n",
      "438 7.187173 0.000191752383901\n",
      "439 7.192823 0.00019173936438\n",
      "440 7.193769 0.000191819336185\n",
      "441 7.222604 0.000191844490718\n",
      "442 7.237476 0.000191875965211\n",
      "443 7.241415 0.000191854794997\n",
      "444 7.298527 0.000191797519602\n",
      "445 7.285705 0.00019173167848\n",
      "446 7.2928 0.000191761233893\n",
      "447 7.297617 0.000191790469804\n",
      "448 7.30995 0.000191751135755\n",
      "449 7.321778 0.000191738354578\n",
      "450 7.34425 0.000191737654772\n",
      "451 7.35043 0.000191706337347\n",
      "452 7.427908 0.000191651261501\n",
      "453 7.405866 0.000191645998635\n",
      "454 7.412222 0.000191585644516\n",
      "455 7.418913 0.000191766361099\n",
      "456 7.435523 0.000191770054825\n",
      "457 7.605333 0.000191667317045\n",
      "458 8.399328 0.000191645183238\n",
      "459 7.780393 0.000191609684977\n",
      "460 7.565713 0.000191722891741\n",
      "461 7.561853 0.00019159073977\n",
      "462 7.5768 0.000191550939967\n",
      "463 7.59087 0.000191525782599\n",
      "464 7.600749 0.000191545389772\n",
      "465 7.62149 0.000191511136835\n",
      "466 7.633611 0.000191538590649\n",
      "467 7.652436 0.00019148665047\n",
      "468 7.682254 0.00019148246175\n",
      "469 7.673979 0.000191461981887\n",
      "470 7.690228 0.000191507605321\n",
      "471 7.7174 0.000191405876698\n",
      "472 7.718926 0.000191330447758\n",
      "473 7.736065 0.000191306981128\n",
      "474 7.782054 0.000191430279132\n",
      "475 7.775892 0.00019132255687\n",
      "476 7.777831 0.000191267278088\n",
      "477 7.794675 0.000191198902272\n",
      "478 7.810699 0.000191184953238\n",
      "479 7.824569 0.000191230320437\n",
      "480 7.833667 0.000191240819847\n",
      "481 7.857325 0.000191242553572\n",
      "482 7.872794 0.000191132370046\n",
      "483 7.927674 0.00019110056721\n",
      "484 7.905197 0.000191113026994\n",
      "485 7.913984 0.000191125197504\n",
      "486 7.926764 0.000191075565147\n",
      "487 7.96997 0.000191114579374\n",
      "488 7.96554 0.000191096433043\n",
      "489 7.972993 0.000191094036512\n",
      "490 9.593082 0.000191120647788\n",
      "491 8.399834 0.00019112003113\n",
      "492 8.039967 0.00019173725963\n",
      "493 8.046888 0.000191768670491\n",
      "494 8.055599 0.000191768429258\n",
      "495 8.069514 0.000191832563429\n",
      "496 8.084547 0.0001916440685\n",
      "497 8.18615 0.000191646682699\n",
      "498 8.124845 0.000191610162237\n",
      "499 8.141343 0.000191615929326\n",
      "End of Trainng run\n"
     ]
    }
   ],
   "source": [
    "for i in range(training_samples-1):\n",
    "    indx = i+1\n",
    "    start = time.clock()\n",
    "    leg_model.fit(X[:indx], y[:indx])\n",
    "    stop = time.clock()\n",
    "    training_times[i] = stop-start\n",
    "    y_predict = leg_model.predict(X_test)\n",
    "    err = 0\n",
    "    for j in range(test_samples):\n",
    "        err = err+error(y_predict[j],y_test[j])\n",
    "    err = err/test_samples\n",
    "    errors[i] = err\n",
    "    print(indx, training_times[i][0], errors[i][0])\n",
    "print(\"End of Trainng run\")"
   ]
  },
  {
   "cell_type": "code",
   "execution_count": 88,
   "metadata": {
    "collapsed": true
   },
   "outputs": [],
   "source": [
    "np.save(\"training_errors\", errors)\n",
    "np.save(\"training_times\", training_times)"
   ]
  },
  {
   "cell_type": "code",
   "execution_count": 77,
   "metadata": {
    "scrolled": false
   },
   "outputs": [
    {
     "data": {
      "image/png": "[encoded data removed]",
      "text/plain": [
       "<matplotlib.figure.Figure at 0x7f8991d4fb00>"
      ]
     },
     "metadata": {},
     "output_type": "display_data"
    },
    {
     "data": {
      "image/png": "[encoded data removed]",
      "text/plain": [
       "<matplotlib.figure.Figure at 0x7f899409be10>"
      ]
     },
     "metadata": {},
     "output_type": "display_data"
    }
   ],
   "source": [
    "draw_concentrations((y_test[0], y_predict[0]),\n",
    "                    ('Simulation', 'Legendre'))\n",
    "draw_concentrations([y_predict[0]], ['Predicted Concentration'])"
   ]
  },
  {
   "cell_type": "code",
   "execution_count": 80,
   "metadata": {
    "collapsed": true
   },
   "outputs": [],
   "source": [
    "samples = np.reshape(np.arange(499),(499,1))"
   ]
  },
  {
   "cell_type": "code",
   "execution_count": 87,
   "metadata": {},
   "outputs": [
    {
     "data": {
      "image/png": "[encoded data removed]",
      "text/plain": [
       "<matplotlib.figure.Figure at 0x7f89918a2cc0>"
      ]
     },
     "metadata": {},
     "output_type": "display_data"
    }
   ],
   "source": [
    "plt.plot(samples, training_times)\n",
    "plt.title(\"Training time against no. of training samples\")\n",
    "plt.ylabel(\"Training time\")\n",
    "plt.xlabel(\"No. of training samples\")\n",
    "plt.show()"
   ]
  },
  {
   "cell_type": "code",
   "execution_count": 86,
   "metadata": {},
   "outputs": [
    {
     "data": {
      "image/png": "[encoded data removed]",
      "text/plain": [
       "<matplotlib.figure.Figure at 0x7f899197c9e8>"
      ]
     },
     "metadata": {},
     "output_type": "display_data"
    }
   ],
   "source": [
    "plt.plot(samples[10:], errors[10:])\n",
    "plt.title(\"Mean squared test error against no. of training samples\")\n",
    "plt.ylabel(\"Test Error\")\n",
    "plt.xlabel(\"No. of training samples\")\n",
    "plt.show()"
   ]
  },
  {
   "cell_type": "code",
   "execution_count": 96,
   "metadata": {},
   "outputs": [
    {
     "name": "stdout",
     "output_type": "stream",
     "text": [
      "(400, 101, 101)\n"
     ]
    },
    {
     "data": {
      "image/png": "[encoded data removed]",
      "text/plain": [
       "<matplotlib.figure.Figure at 0x7f89919ec1d0>"
      ]
     },
     "metadata": {},
     "output_type": "display_data"
    }
   ],
   "source": [
    "tsteps = 499\n",
    "filename = \"data/phi_101_%d.npy\" % tsteps\n",
    "phi = np.load(filename)\n",
    "print(phi.shape)\n",
    "draw_concentrations([phi[0]], ['Concentration Map'])"
   ]
  },
  {
   "cell_type": "code",
   "execution_count": 97,
   "metadata": {},
   "outputs": [
    {
     "name": "stdout",
     "output_type": "stream",
     "text": [
      "CPU times: user 0 ns, sys: 0 ns, total: 0 ns\n",
      "Wall time: 1.9 ms\n"
     ]
    }
   ],
   "source": [
    "%%time\n",
    "leg_basis = LegendreBasis(4, [-1, 1])\n",
    "leg_model = MKSLocalizationModel(basis=leg_basis)"
   ]
  },
  {
   "cell_type": "code",
   "execution_count": null,
   "metadata": {
    "collapsed": true
   },
   "outputs": [],
   "source": [
    "leg_model.fit(X[:indx], y[:indx])\n",
    "stop = time.clock()\n",
    "training_times[i] = stop-start\n",
    "y_predict = leg_model.predict(X_test)\n",
    "err = 0\n",
    "for j in range(test_samples):\n",
    "    err = err+error(y_predict[j],y_test[j])\n",
    "    err = err/test_samples\n",
    "errors[i] = err\n",
    "print(indx, training_times[i][0], errors[i][0])\n",
    "print(\"End of Trainng run\")"
   ]
  }
 ],
 "metadata": {
  "kernelspec": {
   "display_name": "Python 3",
   "language": "python",
   "name": "python3"
  },
  "language_info": {
   "codemirror_mode": {
    "name": "ipython",
    "version": 3
   },
   "file_extension": ".py",
   "mimetype": "text/x-python",
   "name": "python",
   "nbconvert_exporter": "python",
   "pygments_lexer": "ipython3",
   "version": "3.6.1"
  }
 },
 "nbformat": 4,
 "nbformat_minor": 2
}
